{
  "nbformat": 4,
  "nbformat_minor": 0,
  "metadata": {
    "colab": {
      "name": "Minst_model.ipynb",
      "private_outputs": true,
      "provenance": []
    },
    "kernelspec": {
      "name": "python3",
      "display_name": "Python 3"
    },
    "language_info": {
      "name": "python"
    },
    "accelerator": "GPU"
  },
  "cells": [
    {
      "cell_type": "code",
      "metadata": {
        "id": "KIKPvucDcnCd"
      },
      "source": [
        "%tensorflow_version 2.x\n",
        "import tensorflow as tf"
      ],
      "execution_count": null,
      "outputs": []
    },
    {
      "cell_type": "code",
      "metadata": {
        "id": "tDcdnCUXdBJp"
      },
      "source": [
        "print(tf.__version__)"
      ],
      "execution_count": null,
      "outputs": []
    },
    {
      "cell_type": "code",
      "metadata": {
        "id": "6bTP87uTe-H8"
      },
      "source": [
        "! /opt/bin/nvidia-smi"
      ],
      "execution_count": null,
      "outputs": []
    },
    {
      "cell_type": "code",
      "metadata": {
        "id": "hr8ron0jhqwo"
      },
      "source": [
        " (x_train,y_train),(x_test,y_test) = tf.keras.datasets.mnist.load_data()"
      ],
      "execution_count": null,
      "outputs": []
    },
    {
      "cell_type": "code",
      "metadata": {
        "id": "mSLoZrIYkjYZ"
      },
      "source": [
        "y_train[0]"
      ],
      "execution_count": null,
      "outputs": []
    },
    {
      "cell_type": "code",
      "metadata": {
        "id": "KWRAPOAwklmB"
      },
      "source": [
        "x_train[0]"
      ],
      "execution_count": null,
      "outputs": []
    },
    {
      "cell_type": "code",
      "metadata": {
        "id": "dVs3DEMMkrjY"
      },
      "source": [
        "#畫出MNIST圖片\n",
        "\n",
        "import matplotlib.pyplot as plt\n",
        "\n",
        "plt.gcf().set_size_inches(15,4)\n",
        "for i in range(5):\n",
        "  ax = plt.subplot(1,5,i+1)\n",
        "  ax.imshow(x_train[i],cmap='gray') #cmap='binary'會白底黑字\n",
        "  ax.set_title('label='+str(y_train[i]),fontsize=18)\n",
        "plt.show()"
      ],
      "execution_count": null,
      "outputs": []
    },
    {
      "cell_type": "code",
      "metadata": {
        "id": "5Ty-eb96kyYb"
      },
      "source": [
        "x_train = x_train/255\n",
        "x_test = x_test/255"
      ],
      "execution_count": null,
      "outputs": []
    },
    {
      "cell_type": "code",
      "metadata": {
        "id": "WyTh1Wb5lhSQ"
      },
      "source": [
        "x_train[0]"
      ],
      "execution_count": null,
      "outputs": []
    },
    {
      "cell_type": "code",
      "metadata": {
        "id": "X4bXu1KWl-4l"
      },
      "source": [
        "x_train.shape"
      ],
      "execution_count": null,
      "outputs": []
    },
    {
      "cell_type": "code",
      "metadata": {
        "id": "5paYA204mAh6"
      },
      "source": [
        "x_train = x_train.reshape((60000, 28, 28, 1))\n",
        "x_test = x_test.reshape((10000,28,28,1))"
      ],
      "execution_count": null,
      "outputs": []
    },
    {
      "cell_type": "code",
      "metadata": {
        "id": "l1YhmTt1l2iS"
      },
      "source": [
        "x_train.shape"
      ],
      "execution_count": null,
      "outputs": []
    },
    {
      "cell_type": "code",
      "metadata": {
        "id": "-WChsYEJmGaK"
      },
      "source": [
        "from tensorflow import keras\n",
        "from tensorflow.keras import layers"
      ],
      "execution_count": null,
      "outputs": []
    },
    {
      "cell_type": "code",
      "metadata": {
        "id": "fQw44qZKnPtY"
      },
      "source": [
        "CNN = keras.Sequential(name = 'CNNNetwork') #model名稱:CNN"
      ],
      "execution_count": null,
      "outputs": []
    },
    {
      "cell_type": "markdown",
      "metadata": {
        "id": "OtI0uL78pidM"
      },
      "source": [
        "兩次convalution兩次pooling"
      ]
    },
    {
      "cell_type": "code",
      "metadata": {
        "id": "rUWRd_jtnbWe"
      },
      "source": [
        "CNN.add(layers.Conv2D(filters=32, \n",
        "                      kernel_size=(3,3),\n",
        "                      activation='relu',\n",
        "                      padding='same',\n",
        "                      input_shape=(28, 28, 1) #第一層才要給\n",
        "        ))"
      ],
      "execution_count": null,
      "outputs": []
    },
    {
      "cell_type": "code",
      "metadata": {
        "id": "qQ3DlhWCn5R2"
      },
      "source": [
        "keras.utils.plot_model(CNN, show_shapes=True)"
      ],
      "execution_count": null,
      "outputs": []
    },
    {
      "cell_type": "code",
      "metadata": {
        "id": "JheqCmb1o9T8"
      },
      "source": [
        "CNN.add(layers.MaxPooling2D(2,2))"
      ],
      "execution_count": null,
      "outputs": []
    },
    {
      "cell_type": "code",
      "metadata": {
        "id": "tEI0nrropfsW"
      },
      "source": [
        "keras.utils.plot_model(CNN,show_shapes=True)"
      ],
      "execution_count": null,
      "outputs": []
    },
    {
      "cell_type": "code",
      "metadata": {
        "id": "zuaU3xQkphB4"
      },
      "source": [
        "CNN.add(layers.Conv2D(filters=64,\n",
        "                           kernel_size=(3,3),\n",
        "                           #padding='same', #故意不加\n",
        "                           activation='relu'))\n",
        "CNN.add(layers.MaxPooling2D(2,2))"
      ],
      "execution_count": null,
      "outputs": []
    },
    {
      "cell_type": "code",
      "metadata": {
        "id": "7uAGFHaKqAPg"
      },
      "source": [
        "keras.utils.plot_model(CNN,show_shapes=True)"
      ],
      "execution_count": null,
      "outputs": []
    },
    {
      "cell_type": "code",
      "metadata": {
        "id": "vme32dcyqAyC"
      },
      "source": [
        "print(CNN.summary())"
      ],
      "execution_count": null,
      "outputs": []
    },
    {
      "cell_type": "markdown",
      "metadata": {
        "id": "C5fgVqTdrY4z"
      },
      "source": [
        " - 320 = ((3x3x1)+1)x32\n",
        " - 3x3 : filter size\n",
        " - x1 (28x28x1)\n",
        " - +1 bias\n",
        " - 32個filter\n"
      ]
    },
    {
      "cell_type": "markdown",
      "metadata": {
        "id": "sJRHopSNsxmq"
      },
      "source": [
        "18496 = ((3x3x32)+1)x64\n",
        " - 3x3 : filter size\n",
        " - 32 : 14x14x32 \n",
        " - +1 bias\n",
        " - 64 filter\n",
        "\n"
      ]
    },
    {
      "cell_type": "code",
      "metadata": {
        "id": "hurZ7YsWs_-d"
      },
      "source": [
        "CNN.add(layers.Flatten())\n",
        "CNN.add(layers.Dense(128,activation='relu'))\n",
        "CNN.add(layers.Dense(64,activation='relu'))\n",
        "CNN.add(layers.Dense(10,activation='softmax')) #最後一層,10:配合資料類別數量 0,1,2,3,4,5,6,7,8,9\n"
      ],
      "execution_count": null,
      "outputs": []
    },
    {
      "cell_type": "code",
      "metadata": {
        "id": "hWHA9n1btpFS"
      },
      "source": [
        "keras.utils.plot_model(CNN,show_shapes=True)"
      ],
      "execution_count": null,
      "outputs": []
    },
    {
      "cell_type": "code",
      "metadata": {
        "id": "JCPn393strW6"
      },
      "source": [
        "print(CNN.summary())"
      ],
      "execution_count": null,
      "outputs": []
    },
    {
      "cell_type": "markdown",
      "metadata": {
        "id": "GUz0_nLduItD"
      },
      "source": [
        " #參數解釋\n",
        " - 2304 = 6x6x64\n",
        " - 295040 = (2304+1)x128\n",
        " - 8256 = (128+1)x64\n",
        " - 650 = (64+1)x10"
      ]
    },
    {
      "cell_type": "code",
      "metadata": {
        "id": "nZmSpDjPtuNh"
      },
      "source": [
        "CNN.compile(optimizer='Adam', \n",
        "            loss=keras.losses.sparse_categorical_crossentropy, \n",
        "            metrics=['accuracy'])"
      ],
      "execution_count": null,
      "outputs": []
    },
    {
      "cell_type": "code",
      "metadata": {
        "id": "3581O77Cu69Z"
      },
      "source": [
        "train_history = CNN.fit(x=x_train,\n",
        "                        y=y_train,\n",
        "                        validation_split=0.2, #分2/8分\n",
        "                        epochs=20, #訓練20次\n",
        "                        batch_size=300, #跑300張之後更新一次weight\n",
        "                        verbose=2 #訓練的狀況顯示方式\n",
        "                        )"
      ],
      "execution_count": null,
      "outputs": []
    },
    {
      "cell_type": "code",
      "metadata": {
        "id": "VHyZXjzW132P"
      },
      "source": [
        "#分析訓練結果圖\n",
        "import matplotlib.pyplot as plt\n",
        "def show_train_history(show_train_value,test_value):\n",
        "    plt.plot(train_history.history[show_train_value])\n",
        "    plt.plot(train_history.history[test_value])\n",
        "    plt.title('Train History')\n",
        "    plt.ylabel(show_train_value)\n",
        "    plt.xlabel('Epoch')\n",
        "    plt.legend(['train', 'test'], loc='upper left')\n",
        "    plt.show()"
      ],
      "execution_count": null,
      "outputs": []
    },
    {
      "cell_type": "code",
      "metadata": {
        "id": "Lxu49-nZ3Pxx"
      },
      "source": [
        "show_train_history('accuracy','val_accuracy')\n",
        "show_train_history('loss','val_loss')"
      ],
      "execution_count": null,
      "outputs": []
    },
    {
      "cell_type": "code",
      "metadata": {
        "id": "2QIc0w0r3R4l"
      },
      "source": [
        "import numpy as np\n",
        "np.mean(CNN.predict_classes(x_test)==y_test)"
      ],
      "execution_count": null,
      "outputs": []
    },
    {
      "cell_type": "code",
      "metadata": {
        "id": "5Po2YL7D5N8p"
      },
      "source": [
        "prediction = np.argmax(CNN.predict(x_test), axis = -1)"
      ],
      "execution_count": null,
      "outputs": []
    },
    {
      "cell_type": "code",
      "metadata": {
        "id": "kQC-gZ9b3je6"
      },
      "source": [
        "CNN.predict(x_test).shape"
      ],
      "execution_count": null,
      "outputs": []
    },
    {
      "cell_type": "code",
      "metadata": {
        "id": "t4PlaUl95J-4"
      },
      "source": [
        "import pandas as pd"
      ],
      "execution_count": null,
      "outputs": []
    },
    {
      "cell_type": "code",
      "metadata": {
        "id": "sAB-EqjD5cqr"
      },
      "source": [
        "pd.crosstab(y_test,prediction,rownames=['label'],colnames=['predict'])"
      ],
      "execution_count": null,
      "outputs": []
    },
    {
      "cell_type": "code",
      "metadata": {
        "id": "s9OL5ltH5wAw"
      },
      "source": [
        "#畫出來比對用的\n",
        "import matplotlib.pyplot as plt\n",
        "def plot_images_labels_prediction(images,labels,prediction,idx,num=10):\n",
        "    fig = plt.gcf()\n",
        "    fig.set_size_inches(12, 14)\n",
        "    if num>25: num=25\n",
        "    images = images.reshape(images.shape[0],28,28)\n",
        "    for i in range(0, num):\n",
        "        ax=plt.subplot(5,5, 1+i)\n",
        "        ax.imshow(images[idx], cmap='binary')\n",
        "\n",
        "        ax.set_title(\"label=\" +str(labels[idx])+\n",
        "                     \",predict=\"+str(prediction[idx])\n",
        "                     ,fontsize=10,color='red') \n",
        "        \n",
        "        ax.set_xticks([]);ax.set_yticks([])        \n",
        "        idx+=1 \n",
        "    plt.show()"
      ],
      "execution_count": null,
      "outputs": []
    },
    {
      "cell_type": "code",
      "metadata": {
        "id": "aLdsYVAW59bZ"
      },
      "source": [
        "plot_images_labels_prediction(x_test,y_test,prediction,idx=10)"
      ],
      "execution_count": null,
      "outputs": []
    },
    {
      "cell_type": "markdown",
      "metadata": {
        "id": "7LsC8Imk62lj"
      },
      "source": [
        "找出預測錯誤問題"
      ]
    },
    {
      "cell_type": "code",
      "metadata": {
        "id": "hG4Af1Tc5_k2"
      },
      "source": [
        "df = pd.DataFrame({\n",
        "    'label':y_test,\n",
        "    'predict':prediction\n",
        "})"
      ],
      "execution_count": null,
      "outputs": []
    },
    {
      "cell_type": "code",
      "metadata": {
        "id": "MJD_yrig6Slb"
      },
      "source": [
        "df.head()"
      ],
      "execution_count": null,
      "outputs": []
    },
    {
      "cell_type": "code",
      "metadata": {
        "id": "fEZubHv16bJo"
      },
      "source": [
        "df[ (df.label == 4) & (df.predict == 9) ]\n"
      ],
      "execution_count": null,
      "outputs": []
    },
    {
      "cell_type": "code",
      "metadata": {
        "id": "fZTjM-Fb8bN_"
      },
      "source": [
        "plot_images_labels_prediction(x_test,y_test,prediction,idx=2130)"
      ],
      "execution_count": null,
      "outputs": []
    },
    {
      "cell_type": "code",
      "metadata": {
        "id": "5PvrfLQz86ti"
      },
      "source": [
        "CNN.save('MyMinistModel.h5')"
      ],
      "execution_count": null,
      "outputs": []
    },
    {
      "cell_type": "code",
      "metadata": {
        "id": "LdT7z6j-9OUW"
      },
      "source": [
        "!pwd"
      ],
      "execution_count": null,
      "outputs": []
    },
    {
      "cell_type": "code",
      "metadata": {
        "id": "4GtHBRcg9P4T"
      },
      "source": [
        "from tensorflow.keras.models import load_model\n",
        "model = load_model('MyMinistModel.h5')"
      ],
      "execution_count": null,
      "outputs": []
    },
    {
      "cell_type": "code",
      "metadata": {
        "id": "ImhMpHG_9jLp"
      },
      "source": [
        "(x_train,y_train),(x_test,y_test) = tf.keras.datasets.mnist.load_data()"
      ],
      "execution_count": null,
      "outputs": []
    },
    {
      "cell_type": "code",
      "metadata": {
        "id": "z95X0Yqf95x8"
      },
      "source": [
        "x_test.shape"
      ],
      "execution_count": null,
      "outputs": []
    },
    {
      "cell_type": "code",
      "metadata": {
        "id": "yAP-Sfiu9nBw"
      },
      "source": [
        "x_test = x_test/255\n",
        "x_test = x_test.reshape(10000, 28, 28, 1)\n"
      ],
      "execution_count": null,
      "outputs": []
    },
    {
      "cell_type": "code",
      "metadata": {
        "id": "Tscw_ywJ9-Mp"
      },
      "source": [
        "model.evaluate(x_test,y_test)[1]"
      ],
      "execution_count": null,
      "outputs": []
    },
    {
      "cell_type": "code",
      "metadata": {
        "id": "AGtRe04N_KAq"
      },
      "source": [
        ""
      ],
      "execution_count": null,
      "outputs": []
    },
    {
      "cell_type": "code",
      "metadata": {
        "id": "GXyHBFs4-DY_"
      },
      "source": [
        ""
      ],
      "execution_count": null,
      "outputs": []
    }
  ]
}