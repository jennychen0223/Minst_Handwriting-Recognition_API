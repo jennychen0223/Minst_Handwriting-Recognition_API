{
 "cells": [
  {
   "cell_type": "markdown",
   "metadata": {
    "colab_type": "text",
    "id": "view-in-github"
   },
   "source": [
    "<a href=\"https://colab.research.google.com/github/jennychen0223/Minst_Handwriting-Recognition_API/blob/main/Minst_model.ipynb\" target=\"_parent\"><img src=\"https://colab.research.google.com/assets/colab-badge.svg\" alt=\"Open In Colab\"/></a>"
   ]
  },
  {
   "cell_type": "code",
   "execution_count": null,
   "metadata": {
    "id": "KIKPvucDcnCd"
   },
   "outputs": [],
   "source": [
    "%tensorflow_version 2.x\n",
    "import tensorflow as tf"
   ]
  },
  {
   "cell_type": "code",
   "execution_count": null,
   "metadata": {
    "id": "tDcdnCUXdBJp"
   },
   "outputs": [],
   "source": [
    "print(tf.__version__)"
   ]
  },
  {
   "cell_type": "code",
   "execution_count": null,
   "metadata": {
    "id": "6bTP87uTe-H8"
   },
   "outputs": [],
   "source": [
    "! /opt/bin/nvidia-smi"
   ]
  },
  {
   "cell_type": "code",
   "execution_count": null,
   "metadata": {
    "id": "hr8ron0jhqwo"
   },
   "outputs": [],
   "source": [
    " (x_train,y_train),(x_test,y_test) = tf.keras.datasets.mnist.load_data()"
   ]
  },
  {
   "cell_type": "code",
   "execution_count": null,
   "metadata": {
    "id": "mSLoZrIYkjYZ"
   },
   "outputs": [],
   "source": [
    "y_train[0]"
   ]
  },
  {
   "cell_type": "code",
   "execution_count": null,
   "metadata": {
    "id": "KWRAPOAwklmB"
   },
   "outputs": [],
   "source": [
    "x_train[0]"
   ]
  },
  {
   "cell_type": "code",
   "execution_count": null,
   "metadata": {
    "id": "dVs3DEMMkrjY"
   },
   "outputs": [],
   "source": [
    "import matplotlib.pyplot as plt\n",
    "\n",
    "plt.gcf().set_size_inches(15,4)\n",
    "for i in range(5):\n",
    "  ax = plt.subplot(1,5,i+1)\n",
    "  ax.imshow(x_train[i],cmap='gray') #cmap='binary'會白底黑字\n",
    "  ax.set_title('label='+str(y_train[i]),fontsize=18)\n",
    "plt.show()"
   ]
  },
  {
   "cell_type": "code",
   "execution_count": null,
   "metadata": {
    "id": "5Ty-eb96kyYb"
   },
   "outputs": [],
   "source": [
    "x_train = x_train/255\n",
    "x_test = x_test/255"
   ]
  },
  {
   "cell_type": "code",
   "execution_count": null,
   "metadata": {
    "id": "WyTh1Wb5lhSQ"
   },
   "outputs": [],
   "source": [
    "x_train[0]"
   ]
  },
  {
   "cell_type": "code",
   "execution_count": null,
   "metadata": {
    "id": "X4bXu1KWl-4l"
   },
   "outputs": [],
   "source": [
    "x_train.shape"
   ]
  },
  {
   "cell_type": "code",
   "execution_count": null,
   "metadata": {
    "id": "5paYA204mAh6"
   },
   "outputs": [],
   "source": [
    "x_train = x_train.reshape((60000, 28, 28, 1))\n",
    "x_test = x_test.reshape((10000,28,28,1))"
   ]
  },
  {
   "cell_type": "code",
   "execution_count": null,
   "metadata": {
    "id": "l1YhmTt1l2iS"
   },
   "outputs": [],
   "source": [
    "x_train.shape"
   ]
  },
  {
   "cell_type": "code",
   "execution_count": null,
   "metadata": {
    "id": "-WChsYEJmGaK"
   },
   "outputs": [],
   "source": [
    "from tensorflow import keras\n",
    "from tensorflow.keras import layers"
   ]
  },
  {
   "cell_type": "code",
   "execution_count": null,
   "metadata": {
    "id": "fQw44qZKnPtY"
   },
   "outputs": [],
   "source": [
    "CNN = keras.Sequential(name = 'CNNNetwork') "
   ]
  },
  {
   "cell_type": "code",
   "execution_count": null,
   "metadata": {
    "id": "rUWRd_jtnbWe"
   },
   "outputs": [],
   "source": [
    "CNN.add(layers.Conv2D(filters=32, \n",
    "                      kernel_size=(3,3),\n",
    "                      activation='relu',\n",
    "                      padding='same',\n",
    "                      input_shape=(28, 28, 1) "
   ]
  },
  {
   "cell_type": "code",
   "execution_count": null,
   "metadata": {
    "id": "qQ3DlhWCn5R2"
   },
   "outputs": [],
   "source": [
    "keras.utils.plot_model(CNN, show_shapes=True)"
   ]
  },
  {
   "cell_type": "code",
   "execution_count": null,
   "metadata": {
    "id": "JheqCmb1o9T8"
   },
   "outputs": [],
   "source": [
    "CNN.add(layers.MaxPooling2D(2,2))"
   ]
  },
  {
   "cell_type": "code",
   "execution_count": null,
   "metadata": {
    "id": "tEI0nrropfsW"
   },
   "outputs": [],
   "source": [
    "keras.utils.plot_model(CNN,show_shapes=True)"
   ]
  },
  {
   "cell_type": "code",
   "execution_count": null,
   "metadata": {
    "id": "zuaU3xQkphB4"
   },
   "outputs": [],
   "source": [
    "CNN.add(layers.Conv2D(filters=64,\n",
    "                           kernel_size=(3,3),\n",
    "                           activation='relu'))\n",
    "CNN.add(layers.MaxPooling2D(2,2))"
   ]
  },
  {
   "cell_type": "code",
   "execution_count": null,
   "metadata": {
    "id": "7uAGFHaKqAPg"
   },
   "outputs": [],
   "source": [
    "keras.utils.plot_model(CNN,show_shapes=True)"
   ]
  },
  {
   "cell_type": "code",
   "execution_count": null,
   "metadata": {
    "id": "vme32dcyqAyC"
   },
   "outputs": [],
   "source": [
    "print(CNN.summary())"
   ]
  },
  {
   "cell_type": "markdown",
   "metadata": {
    "id": "C5fgVqTdrY4z"
   },
   "source": [
    " - 320 = ((3x3x1)+1)x32\n",
    " - 3x3 : filter size\n",
    " - x1 (28x28x1)\n",
    " - +1 bias\n",
    " - 32個filter\n"
   ]
  },
  {
   "cell_type": "markdown",
   "metadata": {
    "id": "sJRHopSNsxmq"
   },
   "source": [
    "18496 = ((3x3x32)+1)x64\n",
    " - 3x3 : filter size\n",
    " - 32 : 14x14x32 \n",
    " - +1 bias\n",
    " - 64 filter\n",
    "\n"
   ]
  },
  {
   "cell_type": "code",
   "execution_count": null,
   "metadata": {
    "id": "hurZ7YsWs_-d"
   },
   "outputs": [],
   "source": [
    "CNN.add(layers.Flatten())\n",
    "CNN.add(layers.Dense(128,activation='relu'))\n",
    "CNN.add(layers.Dense(64,activation='relu'))\n",
    "CNN.add(layers.Dense(10,activation='softmax')) "
   ]
  },
  {
   "cell_type": "code",
   "execution_count": null,
   "metadata": {
    "id": "hWHA9n1btpFS"
   },
   "outputs": [],
   "source": [
    "keras.utils.plot_model(CNN,show_shapes=True)"
   ]
  },
  {
   "cell_type": "code",
   "execution_count": null,
   "metadata": {
    "id": "JCPn393strW6"
   },
   "outputs": [],
   "source": [
    "print(CNN.summary())"
   ]
  },
  {
   "cell_type": "code",
   "execution_count": null,
   "metadata": {
    "id": "nZmSpDjPtuNh"
   },
   "outputs": [],
   "source": [
    "CNN.compile(optimizer='Adam', \n",
    "            loss=keras.losses.sparse_categorical_crossentropy, \n",
    "            metrics=['accuracy'])"
   ]
  },
  {
   "cell_type": "code",
   "execution_count": null,
   "metadata": {
    "id": "3581O77Cu69Z"
   },
   "outputs": [],
   "source": [
    "train_history = CNN.fit(x=x_train,\n",
    "                        y=y_train,\n",
    "                        validation_split=0.2,\n",
    "                        epochs=20,\n",
    "                        batch_size=300,\n",
    "                        verbose=2\n",
    "                        )"
   ]
  },
  {
   "cell_type": "code",
   "execution_count": null,
   "metadata": {
    "id": "VHyZXjzW132P"
   },
   "outputs": [],
   "source": [
    "import matplotlib.pyplot as plt\n",
    "def show_train_history(show_train_value,test_value):\n",
    "    plt.plot(train_history.history[show_train_value])\n",
    "    plt.plot(train_history.history[test_value])\n",
    "    plt.title('Train History')\n",
    "    plt.ylabel(show_train_value)\n",
    "    plt.xlabel('Epoch')\n",
    "    plt.legend(['train', 'test'], loc='upper left')\n",
    "    plt.show()"
   ]
  },
  {
   "cell_type": "code",
   "execution_count": null,
   "metadata": {
    "id": "Lxu49-nZ3Pxx"
   },
   "outputs": [],
   "source": [
    "show_train_history('accuracy','val_accuracy')\n",
    "show_train_history('loss','val_loss')"
   ]
  },
  {
   "cell_type": "code",
   "execution_count": null,
   "metadata": {
    "id": "2QIc0w0r3R4l"
   },
   "outputs": [],
   "source": [
    "import numpy as np\n",
    "np.mean(CNN.predict_classes(x_test)==y_test)"
   ]
  },
  {
   "cell_type": "code",
   "execution_count": null,
   "metadata": {
    "id": "5Po2YL7D5N8p"
   },
   "outputs": [],
   "source": [
    "prediction = np.argmax(CNN.predict(x_test), axis = -1)"
   ]
  },
  {
   "cell_type": "code",
   "execution_count": null,
   "metadata": {
    "id": "kQC-gZ9b3je6"
   },
   "outputs": [],
   "source": [
    "CNN.predict(x_test).shape"
   ]
  },
  {
   "cell_type": "code",
   "execution_count": null,
   "metadata": {
    "id": "t4PlaUl95J-4"
   },
   "outputs": [],
   "source": [
    "import pandas as pd"
   ]
  },
  {
   "cell_type": "code",
   "execution_count": null,
   "metadata": {
    "id": "sAB-EqjD5cqr"
   },
   "outputs": [],
   "source": [
    "pd.crosstab(y_test,prediction,rownames=['label'],colnames=['predict'])"
   ]
  },
  {
   "cell_type": "code",
   "execution_count": null,
   "metadata": {
    "id": "s9OL5ltH5wAw"
   },
   "outputs": [],
   "source": [
    "import matplotlib.pyplot as plt\n",
    "def plot_images_labels_prediction(images,labels,prediction,idx,num=10):\n",
    "    fig = plt.gcf()\n",
    "    fig.set_size_inches(12, 14)\n",
    "    if num>25: num=25\n",
    "    images = images.reshape(images.shape[0],28,28)\n",
    "    for i in range(0, num):\n",
    "        ax=plt.subplot(5,5, 1+i)\n",
    "        ax.imshow(images[idx], cmap='binary')\n",
    "\n",
    "        ax.set_title(\"label=\" +str(labels[idx])+\n",
    "                     \",predict=\"+str(prediction[idx])\n",
    "                     ,fontsize=10,color='red') \n",
    "        \n",
    "        ax.set_xticks([]);ax.set_yticks([])        \n",
    "        idx+=1 \n",
    "    plt.show()"
   ]
  },
  {
   "cell_type": "code",
   "execution_count": null,
   "metadata": {
    "id": "aLdsYVAW59bZ"
   },
   "outputs": [],
   "source": [
    "plot_images_labels_prediction(x_test,y_test,prediction,idx=10)"
   ]
  },
  {
   "cell_type": "code",
   "execution_count": null,
   "metadata": {
    "id": "hG4Af1Tc5_k2"
   },
   "outputs": [],
   "source": [
    "df = pd.DataFrame({\n",
    "    'label':y_test,\n",
    "    'predict':prediction\n",
    "})"
   ]
  },
  {
   "cell_type": "code",
   "execution_count": null,
   "metadata": {
    "id": "MJD_yrig6Slb"
   },
   "outputs": [],
   "source": [
    "df.head()"
   ]
  },
  {
   "cell_type": "code",
   "execution_count": null,
   "metadata": {
    "id": "fEZubHv16bJo"
   },
   "outputs": [],
   "source": [
    "df[ (df.label == 4) & (df.predict == 9) ]\n"
   ]
  },
  {
   "cell_type": "code",
   "execution_count": null,
   "metadata": {
    "id": "fZTjM-Fb8bN_"
   },
   "outputs": [],
   "source": [
    "plot_images_labels_prediction(x_test,y_test,prediction,idx=2130)"
   ]
  },
  {
   "cell_type": "code",
   "execution_count": null,
   "metadata": {
    "id": "5PvrfLQz86ti"
   },
   "outputs": [],
   "source": [
    "CNN.save('MyMinistModel.h5')"
   ]
  },
  {
   "cell_type": "code",
   "execution_count": null,
   "metadata": {
    "id": "LdT7z6j-9OUW"
   },
   "outputs": [],
   "source": [
    "!pwd"
   ]
  },
  {
   "cell_type": "code",
   "execution_count": null,
   "metadata": {
    "id": "4GtHBRcg9P4T"
   },
   "outputs": [],
   "source": [
    "from tensorflow.keras.models import load_model\n",
    "model = load_model('MyMinistModel.h5')"
   ]
  },
  {
   "cell_type": "code",
   "execution_count": null,
   "metadata": {
    "id": "ImhMpHG_9jLp"
   },
   "outputs": [],
   "source": [
    "(x_train,y_train),(x_test,y_test) = tf.keras.datasets.mnist.load_data()"
   ]
  },
  {
   "cell_type": "code",
   "execution_count": null,
   "metadata": {
    "id": "z95X0Yqf95x8"
   },
   "outputs": [],
   "source": [
    "x_test.shape"
   ]
  },
  {
   "cell_type": "code",
   "execution_count": null,
   "metadata": {
    "id": "yAP-Sfiu9nBw"
   },
   "outputs": [],
   "source": [
    "x_test = x_test/255\n",
    "x_test = x_test.reshape(10000, 28, 28, 1)\n"
   ]
  },
  {
   "cell_type": "code",
   "execution_count": null,
   "metadata": {
    "id": "Tscw_ywJ9-Mp"
   },
   "outputs": [],
   "source": [
    "model.evaluate(x_test,y_test)[1]"
   ]
  },
  {
   "cell_type": "code",
   "execution_count": null,
   "metadata": {
    "id": "AGtRe04N_KAq"
   },
   "outputs": [],
   "source": []
  },
  {
   "cell_type": "code",
   "execution_count": null,
   "metadata": {
    "id": "GXyHBFs4-DY_"
   },
   "outputs": [],
   "source": []
  }
 ],
 "metadata": {
  "accelerator": "GPU",
  "colab": {
   "authorship_tag": "ABX9TyMEMy0psnMoNXzyEIXvlZs1",
   "include_colab_link": true,
   "name": "Minst_model.ipynb",
   "private_outputs": true,
   "provenance": []
  },
  "kernelspec": {
   "display_name": "Python 3",
   "language": "python",
   "name": "python3"
  },
  "language_info": {
   "codemirror_mode": {
    "name": "ipython",
    "version": 3
   },
   "file_extension": ".py",
   "mimetype": "text/x-python",
   "name": "python",
   "nbconvert_exporter": "python",
   "pygments_lexer": "ipython3",
   "version": "3.8.10"
  }
 },
 "nbformat": 4,
 "nbformat_minor": 1
}
